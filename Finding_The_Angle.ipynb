{
  "nbformat": 4,
  "nbformat_minor": 0,
  "metadata": {
    "colab": {
      "provenance": []
    },
    "kernelspec": {
      "name": "python3",
      "display_name": "Python 3"
    },
    "language_info": {
      "name": "python"
    }
  },
  "cells": [
    {
      "cell_type": "code",
      "source": [
        "import math\n",
        "\n",
        "# Define the lines with their points\n",
        "lineA = ((8, 3.7), (2.4, 3))\n",
        "lineB = ((2.4, 3), (7, 3.7))\n",
        "\n",
        "# Calculate the slopes directly\n",
        "x1, y1 = lineA[0][0], lineA[0][1]\n",
        "x2, y2 = lineA[1][0], lineA[1][1]\n",
        "slope1 = (y2 - y1) / (x2 - x1)\n",
        "\n",
        "x1, y1 = lineB[0][0], lineB[0][1]\n",
        "x2, y2 = lineB[1][0], lineB[1][1]\n",
        "slope2 = (y2 - y1) / (x2 - x1)\n",
        "\n",
        "# Calculate the angle in degrees between the two slopes\n",
        "angle_radians = math.atan((slope2 - slope1) / (1 + slope2 * slope1))\n",
        "angle_degrees = math.degrees(angle_radians)\n",
        "\n",
        "# Print the calculated angle in degrees\n",
        "print('Angle in degrees =', angle_degrees)\n"
      ],
      "metadata": {
        "colab": {
          "base_uri": "https://localhost:8080/"
        },
        "id": "pNvzGQ9J5dmZ",
        "outputId": "caec76a1-81f7-4d41-af9b-230b5df7f7c6"
      },
      "execution_count": null,
      "outputs": [
        {
          "output_type": "stream",
          "name": "stdout",
          "text": [
            "Angle in degrees = 1.5275254422129274\n"
          ]
        }
      ]
    },
    {
      "cell_type": "code",
      "source": [],
      "metadata": {
        "id": "2iJ2imW7r8Jr"
      },
      "execution_count": null,
      "outputs": []
    }
  ]
}